{
 "cells": [
  {
   "cell_type": "markdown",
   "id": "4e297ebf",
   "metadata": {},
   "source": [
    "###  1. Loading Libraries"
   ]
  },
  {
   "cell_type": "code",
   "execution_count": 1,
   "id": "5f966bd8",
   "metadata": {},
   "outputs": [],
   "source": [
    "# Pandas and Numpy for Data manipulation & Calculation\n",
    "# Matplotlib for visualization \n",
    "import csv\n",
    "import pandas as pd\n",
    "import numpy as np \n",
    "import matplotlib.pyplot as plt\n",
    "import statistics"
   ]
  },
  {
   "cell_type": "markdown",
   "id": "caa7e5fd",
   "metadata": {},
   "source": [
    "### 2. Loading Data"
   ]
  },
  {
   "cell_type": "code",
   "execution_count": 2,
   "id": "6bdb3aaa",
   "metadata": {
    "scrolled": false
   },
   "outputs": [
    {
     "name": "stdout",
     "output_type": "stream",
     "text": [
      "(271116, 17)\n"
     ]
    }
   ],
   "source": [
    "df = pd.read_csv(\"D:/GIT PROJECTS/Final Olympic Project/olympics.csv\")\n",
    "print(df.shape)"
   ]
  },
  {
   "cell_type": "code",
   "execution_count": 3,
   "id": "0e3c6d01",
   "metadata": {
    "scrolled": false
   },
   "outputs": [
    {
     "data": {
      "text/html": [
       "<div>\n",
       "<style scoped>\n",
       "    .dataframe tbody tr th:only-of-type {\n",
       "        vertical-align: middle;\n",
       "    }\n",
       "\n",
       "    .dataframe tbody tr th {\n",
       "        vertical-align: top;\n",
       "    }\n",
       "\n",
       "    .dataframe thead th {\n",
       "        text-align: right;\n",
       "    }\n",
       "</style>\n",
       "<table border=\"1\" class=\"dataframe\">\n",
       "  <thead>\n",
       "    <tr style=\"text-align: right;\">\n",
       "      <th></th>\n",
       "      <th>ID</th>\n",
       "      <th>Name</th>\n",
       "      <th>Sex</th>\n",
       "      <th>Age</th>\n",
       "      <th>Height</th>\n",
       "      <th>Weight</th>\n",
       "      <th>Team</th>\n",
       "      <th>NOC</th>\n",
       "      <th>Games</th>\n",
       "      <th>Year</th>\n",
       "      <th>Season</th>\n",
       "      <th>City</th>\n",
       "      <th>Sport</th>\n",
       "      <th>Event</th>\n",
       "      <th>Medal</th>\n",
       "      <th>region</th>\n",
       "      <th>notes</th>\n",
       "    </tr>\n",
       "  </thead>\n",
       "  <tbody>\n",
       "    <tr>\n",
       "      <th>0</th>\n",
       "      <td>1</td>\n",
       "      <td>A Dijiang</td>\n",
       "      <td>M</td>\n",
       "      <td>24.0</td>\n",
       "      <td>180.0</td>\n",
       "      <td>80.0</td>\n",
       "      <td>China</td>\n",
       "      <td>CHN</td>\n",
       "      <td>1992 Summer</td>\n",
       "      <td>1992</td>\n",
       "      <td>Summer</td>\n",
       "      <td>Barcelona</td>\n",
       "      <td>Basketball</td>\n",
       "      <td>Basketball Men's Basketball</td>\n",
       "      <td>NaN</td>\n",
       "      <td>China</td>\n",
       "      <td>NaN</td>\n",
       "    </tr>\n",
       "    <tr>\n",
       "      <th>1</th>\n",
       "      <td>2</td>\n",
       "      <td>A Lamusi</td>\n",
       "      <td>M</td>\n",
       "      <td>23.0</td>\n",
       "      <td>170.0</td>\n",
       "      <td>60.0</td>\n",
       "      <td>China</td>\n",
       "      <td>CHN</td>\n",
       "      <td>2012 Summer</td>\n",
       "      <td>2012</td>\n",
       "      <td>Summer</td>\n",
       "      <td>London</td>\n",
       "      <td>Judo</td>\n",
       "      <td>Judo Men's Extra-Lightweight</td>\n",
       "      <td>NaN</td>\n",
       "      <td>China</td>\n",
       "      <td>NaN</td>\n",
       "    </tr>\n",
       "    <tr>\n",
       "      <th>2</th>\n",
       "      <td>3</td>\n",
       "      <td>Gunnar Nielsen Aaby</td>\n",
       "      <td>M</td>\n",
       "      <td>24.0</td>\n",
       "      <td>NaN</td>\n",
       "      <td>NaN</td>\n",
       "      <td>Denmark</td>\n",
       "      <td>DEN</td>\n",
       "      <td>1920 Summer</td>\n",
       "      <td>1920</td>\n",
       "      <td>Summer</td>\n",
       "      <td>Antwerpen</td>\n",
       "      <td>Football</td>\n",
       "      <td>Football Men's Football</td>\n",
       "      <td>NaN</td>\n",
       "      <td>Denmark</td>\n",
       "      <td>NaN</td>\n",
       "    </tr>\n",
       "    <tr>\n",
       "      <th>3</th>\n",
       "      <td>4</td>\n",
       "      <td>Edgar Lindenau Aabye</td>\n",
       "      <td>M</td>\n",
       "      <td>34.0</td>\n",
       "      <td>NaN</td>\n",
       "      <td>NaN</td>\n",
       "      <td>Denmark/Sweden</td>\n",
       "      <td>DEN</td>\n",
       "      <td>1900 Summer</td>\n",
       "      <td>1900</td>\n",
       "      <td>Summer</td>\n",
       "      <td>Paris</td>\n",
       "      <td>Tug-Of-War</td>\n",
       "      <td>Tug-Of-War Men's Tug-Of-War</td>\n",
       "      <td>Gold</td>\n",
       "      <td>Denmark</td>\n",
       "      <td>NaN</td>\n",
       "    </tr>\n",
       "    <tr>\n",
       "      <th>4</th>\n",
       "      <td>5</td>\n",
       "      <td>Christine Jacoba Aaftink</td>\n",
       "      <td>F</td>\n",
       "      <td>21.0</td>\n",
       "      <td>185.0</td>\n",
       "      <td>82.0</td>\n",
       "      <td>Netherlands</td>\n",
       "      <td>NED</td>\n",
       "      <td>1988 Winter</td>\n",
       "      <td>1988</td>\n",
       "      <td>Winter</td>\n",
       "      <td>Calgary</td>\n",
       "      <td>Speed Skating</td>\n",
       "      <td>Speed Skating Women's 500 metres</td>\n",
       "      <td>NaN</td>\n",
       "      <td>Netherlands</td>\n",
       "      <td>NaN</td>\n",
       "    </tr>\n",
       "  </tbody>\n",
       "</table>\n",
       "</div>"
      ],
      "text/plain": [
       "   ID                      Name Sex   Age  Height  Weight            Team  \\\n",
       "0   1                 A Dijiang   M  24.0   180.0    80.0           China   \n",
       "1   2                  A Lamusi   M  23.0   170.0    60.0           China   \n",
       "2   3       Gunnar Nielsen Aaby   M  24.0     NaN     NaN         Denmark   \n",
       "3   4      Edgar Lindenau Aabye   M  34.0     NaN     NaN  Denmark/Sweden   \n",
       "4   5  Christine Jacoba Aaftink   F  21.0   185.0    82.0     Netherlands   \n",
       "\n",
       "   NOC        Games  Year  Season       City          Sport  \\\n",
       "0  CHN  1992 Summer  1992  Summer  Barcelona     Basketball   \n",
       "1  CHN  2012 Summer  2012  Summer     London           Judo   \n",
       "2  DEN  1920 Summer  1920  Summer  Antwerpen       Football   \n",
       "3  DEN  1900 Summer  1900  Summer      Paris     Tug-Of-War   \n",
       "4  NED  1988 Winter  1988  Winter    Calgary  Speed Skating   \n",
       "\n",
       "                              Event Medal       region notes  \n",
       "0       Basketball Men's Basketball   NaN        China   NaN  \n",
       "1      Judo Men's Extra-Lightweight   NaN        China   NaN  \n",
       "2           Football Men's Football   NaN      Denmark   NaN  \n",
       "3       Tug-Of-War Men's Tug-Of-War  Gold      Denmark   NaN  \n",
       "4  Speed Skating Women's 500 metres   NaN  Netherlands   NaN  "
      ]
     },
     "execution_count": 3,
     "metadata": {},
     "output_type": "execute_result"
    }
   ],
   "source": [
    "df.head()"
   ]
  },
  {
   "cell_type": "code",
   "execution_count": 4,
   "id": "0c74d343",
   "metadata": {
    "scrolled": true
   },
   "outputs": [
    {
     "data": {
      "text/html": [
       "<div>\n",
       "<style scoped>\n",
       "    .dataframe tbody tr th:only-of-type {\n",
       "        vertical-align: middle;\n",
       "    }\n",
       "\n",
       "    .dataframe tbody tr th {\n",
       "        vertical-align: top;\n",
       "    }\n",
       "\n",
       "    .dataframe thead th {\n",
       "        text-align: right;\n",
       "    }\n",
       "</style>\n",
       "<table border=\"1\" class=\"dataframe\">\n",
       "  <thead>\n",
       "    <tr style=\"text-align: right;\">\n",
       "      <th></th>\n",
       "      <th>ID</th>\n",
       "      <th>Name</th>\n",
       "      <th>Sex</th>\n",
       "      <th>Age</th>\n",
       "      <th>Height</th>\n",
       "      <th>Weight</th>\n",
       "      <th>Team</th>\n",
       "      <th>NOC</th>\n",
       "      <th>Games</th>\n",
       "      <th>Year</th>\n",
       "      <th>Season</th>\n",
       "      <th>City</th>\n",
       "      <th>Sport</th>\n",
       "      <th>Event</th>\n",
       "      <th>Medal</th>\n",
       "      <th>region</th>\n",
       "      <th>notes</th>\n",
       "    </tr>\n",
       "  </thead>\n",
       "  <tbody>\n",
       "    <tr>\n",
       "      <th>271111</th>\n",
       "      <td>135569</td>\n",
       "      <td>Andrzej ya</td>\n",
       "      <td>M</td>\n",
       "      <td>29.0</td>\n",
       "      <td>179.0</td>\n",
       "      <td>89.0</td>\n",
       "      <td>Poland-1</td>\n",
       "      <td>POL</td>\n",
       "      <td>1976 Winter</td>\n",
       "      <td>1976</td>\n",
       "      <td>Winter</td>\n",
       "      <td>Innsbruck</td>\n",
       "      <td>Luge</td>\n",
       "      <td>Luge Mixed (Men)'s Doubles</td>\n",
       "      <td>NaN</td>\n",
       "      <td>Poland</td>\n",
       "      <td>NaN</td>\n",
       "    </tr>\n",
       "    <tr>\n",
       "      <th>271112</th>\n",
       "      <td>135570</td>\n",
       "      <td>Piotr ya</td>\n",
       "      <td>M</td>\n",
       "      <td>27.0</td>\n",
       "      <td>176.0</td>\n",
       "      <td>59.0</td>\n",
       "      <td>Poland</td>\n",
       "      <td>POL</td>\n",
       "      <td>2014 Winter</td>\n",
       "      <td>2014</td>\n",
       "      <td>Winter</td>\n",
       "      <td>Sochi</td>\n",
       "      <td>Ski Jumping</td>\n",
       "      <td>Ski Jumping Men's Large Hill, Individual</td>\n",
       "      <td>NaN</td>\n",
       "      <td>Poland</td>\n",
       "      <td>NaN</td>\n",
       "    </tr>\n",
       "    <tr>\n",
       "      <th>271113</th>\n",
       "      <td>135570</td>\n",
       "      <td>Piotr ya</td>\n",
       "      <td>M</td>\n",
       "      <td>27.0</td>\n",
       "      <td>176.0</td>\n",
       "      <td>59.0</td>\n",
       "      <td>Poland</td>\n",
       "      <td>POL</td>\n",
       "      <td>2014 Winter</td>\n",
       "      <td>2014</td>\n",
       "      <td>Winter</td>\n",
       "      <td>Sochi</td>\n",
       "      <td>Ski Jumping</td>\n",
       "      <td>Ski Jumping Men's Large Hill, Team</td>\n",
       "      <td>NaN</td>\n",
       "      <td>Poland</td>\n",
       "      <td>NaN</td>\n",
       "    </tr>\n",
       "    <tr>\n",
       "      <th>271114</th>\n",
       "      <td>135571</td>\n",
       "      <td>Tomasz Ireneusz ya</td>\n",
       "      <td>M</td>\n",
       "      <td>30.0</td>\n",
       "      <td>185.0</td>\n",
       "      <td>96.0</td>\n",
       "      <td>Poland</td>\n",
       "      <td>POL</td>\n",
       "      <td>1998 Winter</td>\n",
       "      <td>1998</td>\n",
       "      <td>Winter</td>\n",
       "      <td>Nagano</td>\n",
       "      <td>Bobsleigh</td>\n",
       "      <td>Bobsleigh Men's Four</td>\n",
       "      <td>NaN</td>\n",
       "      <td>Poland</td>\n",
       "      <td>NaN</td>\n",
       "    </tr>\n",
       "    <tr>\n",
       "      <th>271115</th>\n",
       "      <td>135571</td>\n",
       "      <td>Tomasz Ireneusz ya</td>\n",
       "      <td>M</td>\n",
       "      <td>34.0</td>\n",
       "      <td>185.0</td>\n",
       "      <td>96.0</td>\n",
       "      <td>Poland</td>\n",
       "      <td>POL</td>\n",
       "      <td>2002 Winter</td>\n",
       "      <td>2002</td>\n",
       "      <td>Winter</td>\n",
       "      <td>Salt Lake City</td>\n",
       "      <td>Bobsleigh</td>\n",
       "      <td>Bobsleigh Men's Four</td>\n",
       "      <td>NaN</td>\n",
       "      <td>Poland</td>\n",
       "      <td>NaN</td>\n",
       "    </tr>\n",
       "  </tbody>\n",
       "</table>\n",
       "</div>"
      ],
      "text/plain": [
       "            ID                Name Sex   Age  Height  Weight      Team  NOC  \\\n",
       "271111  135569          Andrzej ya   M  29.0   179.0    89.0  Poland-1  POL   \n",
       "271112  135570            Piotr ya   M  27.0   176.0    59.0    Poland  POL   \n",
       "271113  135570            Piotr ya   M  27.0   176.0    59.0    Poland  POL   \n",
       "271114  135571  Tomasz Ireneusz ya   M  30.0   185.0    96.0    Poland  POL   \n",
       "271115  135571  Tomasz Ireneusz ya   M  34.0   185.0    96.0    Poland  POL   \n",
       "\n",
       "              Games  Year  Season            City        Sport  \\\n",
       "271111  1976 Winter  1976  Winter       Innsbruck         Luge   \n",
       "271112  2014 Winter  2014  Winter           Sochi  Ski Jumping   \n",
       "271113  2014 Winter  2014  Winter           Sochi  Ski Jumping   \n",
       "271114  1998 Winter  1998  Winter          Nagano    Bobsleigh   \n",
       "271115  2002 Winter  2002  Winter  Salt Lake City    Bobsleigh   \n",
       "\n",
       "                                           Event Medal  region notes  \n",
       "271111                Luge Mixed (Men)'s Doubles   NaN  Poland   NaN  \n",
       "271112  Ski Jumping Men's Large Hill, Individual   NaN  Poland   NaN  \n",
       "271113        Ski Jumping Men's Large Hill, Team   NaN  Poland   NaN  \n",
       "271114                      Bobsleigh Men's Four   NaN  Poland   NaN  \n",
       "271115                      Bobsleigh Men's Four   NaN  Poland   NaN  "
      ]
     },
     "execution_count": 4,
     "metadata": {},
     "output_type": "execute_result"
    }
   ],
   "source": [
    "df.tail()"
   ]
  },
  {
   "cell_type": "markdown",
   "id": "27dae08b",
   "metadata": {},
   "source": [
    "### 2.1 Columns"
   ]
  },
  {
   "cell_type": "code",
   "execution_count": 5,
   "id": "1b57e892",
   "metadata": {
    "scrolled": true
   },
   "outputs": [
    {
     "data": {
      "text/plain": [
       "Index(['ID', 'Name', 'Sex', 'Age', 'Height', 'Weight', 'Team', 'NOC', 'Games',\n",
       "       'Year', 'Season', 'City', 'Sport', 'Event', 'Medal', 'region', 'notes'],\n",
       "      dtype='object')"
      ]
     },
     "execution_count": 5,
     "metadata": {},
     "output_type": "execute_result"
    }
   ],
   "source": [
    "df.columns"
   ]
  },
  {
   "cell_type": "code",
   "execution_count": 6,
   "id": "38a87804",
   "metadata": {
    "scrolled": false
   },
   "outputs": [
    {
     "data": {
      "text/html": [
       "<div>\n",
       "<style scoped>\n",
       "    .dataframe tbody tr th:only-of-type {\n",
       "        vertical-align: middle;\n",
       "    }\n",
       "\n",
       "    .dataframe tbody tr th {\n",
       "        vertical-align: top;\n",
       "    }\n",
       "\n",
       "    .dataframe thead th {\n",
       "        text-align: right;\n",
       "    }\n",
       "</style>\n",
       "<table border=\"1\" class=\"dataframe\">\n",
       "  <thead>\n",
       "    <tr style=\"text-align: right;\">\n",
       "      <th></th>\n",
       "      <th>ID</th>\n",
       "      <th>Age</th>\n",
       "      <th>Height</th>\n",
       "      <th>Weight</th>\n",
       "      <th>Year</th>\n",
       "    </tr>\n",
       "  </thead>\n",
       "  <tbody>\n",
       "    <tr>\n",
       "      <th>count</th>\n",
       "      <td>271116.000000</td>\n",
       "      <td>261642.000000</td>\n",
       "      <td>210945.000000</td>\n",
       "      <td>208241.000000</td>\n",
       "      <td>271116.000000</td>\n",
       "    </tr>\n",
       "    <tr>\n",
       "      <th>mean</th>\n",
       "      <td>68248.954396</td>\n",
       "      <td>25.556898</td>\n",
       "      <td>175.338970</td>\n",
       "      <td>70.702393</td>\n",
       "      <td>1978.378480</td>\n",
       "    </tr>\n",
       "    <tr>\n",
       "      <th>std</th>\n",
       "      <td>39022.286345</td>\n",
       "      <td>6.393561</td>\n",
       "      <td>10.518462</td>\n",
       "      <td>14.348020</td>\n",
       "      <td>29.877632</td>\n",
       "    </tr>\n",
       "    <tr>\n",
       "      <th>min</th>\n",
       "      <td>1.000000</td>\n",
       "      <td>10.000000</td>\n",
       "      <td>127.000000</td>\n",
       "      <td>25.000000</td>\n",
       "      <td>1896.000000</td>\n",
       "    </tr>\n",
       "    <tr>\n",
       "      <th>25%</th>\n",
       "      <td>34643.000000</td>\n",
       "      <td>21.000000</td>\n",
       "      <td>168.000000</td>\n",
       "      <td>60.000000</td>\n",
       "      <td>1960.000000</td>\n",
       "    </tr>\n",
       "    <tr>\n",
       "      <th>50%</th>\n",
       "      <td>68205.000000</td>\n",
       "      <td>24.000000</td>\n",
       "      <td>175.000000</td>\n",
       "      <td>70.000000</td>\n",
       "      <td>1988.000000</td>\n",
       "    </tr>\n",
       "    <tr>\n",
       "      <th>75%</th>\n",
       "      <td>102097.250000</td>\n",
       "      <td>28.000000</td>\n",
       "      <td>183.000000</td>\n",
       "      <td>79.000000</td>\n",
       "      <td>2002.000000</td>\n",
       "    </tr>\n",
       "    <tr>\n",
       "      <th>max</th>\n",
       "      <td>135571.000000</td>\n",
       "      <td>97.000000</td>\n",
       "      <td>226.000000</td>\n",
       "      <td>214.000000</td>\n",
       "      <td>2016.000000</td>\n",
       "    </tr>\n",
       "  </tbody>\n",
       "</table>\n",
       "</div>"
      ],
      "text/plain": [
       "                  ID            Age         Height         Weight  \\\n",
       "count  271116.000000  261642.000000  210945.000000  208241.000000   \n",
       "mean    68248.954396      25.556898     175.338970      70.702393   \n",
       "std     39022.286345       6.393561      10.518462      14.348020   \n",
       "min         1.000000      10.000000     127.000000      25.000000   \n",
       "25%     34643.000000      21.000000     168.000000      60.000000   \n",
       "50%     68205.000000      24.000000     175.000000      70.000000   \n",
       "75%    102097.250000      28.000000     183.000000      79.000000   \n",
       "max    135571.000000      97.000000     226.000000     214.000000   \n",
       "\n",
       "                Year  \n",
       "count  271116.000000  \n",
       "mean     1978.378480  \n",
       "std        29.877632  \n",
       "min      1896.000000  \n",
       "25%      1960.000000  \n",
       "50%      1988.000000  \n",
       "75%      2002.000000  \n",
       "max      2016.000000  "
      ]
     },
     "execution_count": 6,
     "metadata": {},
     "output_type": "execute_result"
    }
   ],
   "source": [
    "df.describe() # description of data"
   ]
  },
  {
   "cell_type": "code",
   "execution_count": 7,
   "id": "f93c4f7c",
   "metadata": {},
   "outputs": [
    {
     "name": "stdout",
     "output_type": "stream",
     "text": [
      "<class 'pandas.core.frame.DataFrame'>\n",
      "RangeIndex: 271116 entries, 0 to 271115\n",
      "Data columns (total 17 columns):\n",
      " #   Column  Non-Null Count   Dtype  \n",
      "---  ------  --------------   -----  \n",
      " 0   ID      271116 non-null  int64  \n",
      " 1   Name    271116 non-null  object \n",
      " 2   Sex     271116 non-null  object \n",
      " 3   Age     261642 non-null  float64\n",
      " 4   Height  210945 non-null  float64\n",
      " 5   Weight  208241 non-null  float64\n",
      " 6   Team    271116 non-null  object \n",
      " 7   NOC     271116 non-null  object \n",
      " 8   Games   271116 non-null  object \n",
      " 9   Year    271116 non-null  int64  \n",
      " 10  Season  271116 non-null  object \n",
      " 11  City    271116 non-null  object \n",
      " 12  Sport   271116 non-null  object \n",
      " 13  Event   271116 non-null  object \n",
      " 14  Medal   39783 non-null   object \n",
      " 15  region  270746 non-null  object \n",
      " 16  notes   5039 non-null    object \n",
      "dtypes: float64(3), int64(2), object(12)\n",
      "memory usage: 35.2+ MB\n"
     ]
    }
   ],
   "source": [
    "df.info()"
   ]
  },
  {
   "cell_type": "markdown",
   "id": "5d4720da",
   "metadata": {},
   "source": [
    "### 2.2 Understanding Data"
   ]
  },
  {
   "cell_type": "markdown",
   "id": "2215dd98",
   "metadata": {},
   "source": [
    "### 2.2.1 Checking for NULL Values"
   ]
  },
  {
   "cell_type": "code",
   "execution_count": 8,
   "id": "533a540a",
   "metadata": {
    "scrolled": true
   },
   "outputs": [
    {
     "data": {
      "text/plain": [
       "ID             0\n",
       "Name           0\n",
       "Sex            0\n",
       "Age         9474\n",
       "Height     60171\n",
       "Weight     62875\n",
       "Team           0\n",
       "NOC            0\n",
       "Games          0\n",
       "Year           0\n",
       "Season         0\n",
       "City           0\n",
       "Sport          0\n",
       "Event          0\n",
       "Medal     231333\n",
       "region       370\n",
       "notes     266077\n",
       "dtype: int64"
      ]
     },
     "execution_count": 8,
     "metadata": {},
     "output_type": "execute_result"
    }
   ],
   "source": [
    "df.isna().sum() # getting the number of missing values in each column"
   ]
  },
  {
   "cell_type": "code",
   "execution_count": 9,
   "id": "6a35013b",
   "metadata": {
    "scrolled": true
   },
   "outputs": [
    {
     "name": "stdout",
     "output_type": "stream",
     "text": [
      "Index(['Age', 'Height', 'Weight', 'Medal', 'region', 'notes'], dtype='object')\n",
      "Age - 9474\n",
      "Height - 60171\n",
      "Weight - 62875\n",
      "Medal - 231333\n",
      "region - 370\n",
      "notes - 266077\n"
     ]
    }
   ],
   "source": [
    "# columns that contain null values along with the count of null values present in each column\n",
    "null_columns = df.columns[df.isnull().any()]\n",
    "print(null_columns)\n",
    "for column in null_columns:\n",
    "    null_count = df[column].isnull().sum()\n",
    "    print(f\"{column} - {null_count}\")\n"
   ]
  },
  {
   "cell_type": "markdown",
   "id": "9102c372",
   "metadata": {},
   "source": [
    "### 2.2.2 Handling missing values"
   ]
  },
  {
   "cell_type": "markdown",
   "id": "4c8e8213",
   "metadata": {},
   "source": [
    "* We found out that Age, Height, Weight, Medal, region and notes columns contain null values."
   ]
  },
  {
   "cell_type": "markdown",
   "id": "a0633541",
   "metadata": {},
   "source": [
    "* For the columns \"Height, Weight and notes\", we are going to drop these columns as they are not required in our further analysis.\n",
    "* For the \"region\" column, remove all the rows where the region column is having null values."
   ]
  },
  {
   "cell_type": "code",
   "execution_count": 10,
   "id": "378ec2b2",
   "metadata": {
    "scrolled": false
   },
   "outputs": [
    {
     "name": "stdout",
     "output_type": "stream",
     "text": [
      "(270746, 14)\n"
     ]
    }
   ],
   "source": [
    "df.drop(['Height', 'Weight', 'notes'],axis=1,inplace=True)\n",
    "df.dropna(subset=['region'],inplace=True)\n",
    "print(df.shape)"
   ]
  },
  {
   "cell_type": "markdown",
   "id": "86d99fde",
   "metadata": {},
   "source": [
    "*  We are going to handle the Medal column. Let's replace these missing values with 'DNW'. DNW means Did not win."
   ]
  },
  {
   "cell_type": "code",
   "execution_count": 11,
   "id": "68bce3e9",
   "metadata": {
    "scrolled": false
   },
   "outputs": [
    {
     "name": "stdout",
     "output_type": "stream",
     "text": [
      "DNW       230972\n",
      "Gold       13371\n",
      "Bronze     13291\n",
      "Silver     13112\n",
      "Name: Medal, dtype: int64\n"
     ]
    }
   ],
   "source": [
    "df['Medal'].fillna('DNW',inplace=True)\n",
    "print(df['Medal'].value_counts())\n",
    "\n"
   ]
  },
  {
   "cell_type": "markdown",
   "id": "1962a944",
   "metadata": {},
   "source": [
    "*  We are going to handle the age column. let's replace these missing values with means of the age of the players belonging to that particular game."
   ]
  },
  {
   "cell_type": "code",
   "execution_count": 12,
   "id": "2903074d",
   "metadata": {
    "scrolled": false
   },
   "outputs": [
    {
     "name": "stdout",
     "output_type": "stream",
     "text": [
      "26\n"
     ]
    },
    {
     "name": "stderr",
     "output_type": "stream",
     "text": [
      "C:\\Users\\ANUBHAV GUPTA\\AppData\\Local\\Temp\\ipykernel_14004\\2389956843.py:2: FutureWarning: Not prepending group keys to the result index of transform-like apply. In the future, the group keys will be included in the index, regardless of whether the applied function returns a like-indexed object.\n",
      "To preserve the previous behavior, use\n",
      "\n",
      "\t>>> .groupby(..., group_keys=False)\n",
      "\n",
      "To adopt the future behavior and silence this warning, use \n",
      "\n",
      "\t>>> .groupby(..., group_keys=True)\n",
      "  df['Age'] = df.groupby('Sport')['Age'].apply(lambda x: x.fillna(x.mean()))\n"
     ]
    }
   ],
   "source": [
    "mean_age_by_sport= df.groupby('Sport')['Age'].mean()\n",
    "df['Age'] = df.groupby('Sport')['Age'].apply(lambda x: x.fillna(x.mean()))\n",
    "mean_age = df['Age'].mean()\n",
    "print(int(round(mean_age, 0)))"
   ]
  },
  {
   "cell_type": "code",
   "execution_count": 13,
   "id": "0dfe39bf",
   "metadata": {},
   "outputs": [
    {
     "data": {
      "text/plain": [
       "ID        0\n",
       "Name      0\n",
       "Sex       0\n",
       "Age       0\n",
       "Team      0\n",
       "NOC       0\n",
       "Games     0\n",
       "Year      0\n",
       "Season    0\n",
       "City      0\n",
       "Sport     0\n",
       "Event     0\n",
       "Medal     0\n",
       "region    0\n",
       "dtype: int64"
      ]
     },
     "execution_count": 13,
     "metadata": {},
     "output_type": "execute_result"
    }
   ],
   "source": [
    "df.isnull().sum()"
   ]
  },
  {
   "cell_type": "code",
   "execution_count": 14,
   "id": "dcb7131b",
   "metadata": {
    "scrolled": true
   },
   "outputs": [
    {
     "data": {
      "text/plain": [
       "ID          int64\n",
       "Name       object\n",
       "Sex        object\n",
       "Age       float64\n",
       "Team       object\n",
       "NOC        object\n",
       "Games      object\n",
       "Year        int64\n",
       "Season     object\n",
       "City       object\n",
       "Sport      object\n",
       "Event      object\n",
       "Medal      object\n",
       "region     object\n",
       "dtype: object"
      ]
     },
     "execution_count": 14,
     "metadata": {},
     "output_type": "execute_result"
    }
   ],
   "source": [
    "df.dtypes"
   ]
  },
  {
   "cell_type": "markdown",
   "id": "cf2266ce",
   "metadata": {},
   "source": [
    "### 3. Statistical Analysis of Olympics Dataset"
   ]
  },
  {
   "cell_type": "markdown",
   "id": "f6e3d4c9",
   "metadata": {},
   "source": [
    "*  Q1. What is the probability distribution “of the age” of all the players who\n",
    " participated in the swimming competition between the years 2000 - 2016."
   ]
  },
  {
   "cell_type": "code",
   "execution_count": 22,
   "id": "0b696cfd",
   "metadata": {},
   "outputs": [],
   "source": [
    "import scipy.stats as stats\n",
    "from scipy.stats import norm\n",
    "import statistics\n",
    "import matplotlib.pyplot as plt"
   ]
  },
  {
   "cell_type": "code",
   "execution_count": 25,
   "id": "6902b3aa",
   "metadata": {},
   "outputs": [
    {
     "data": {
      "image/png": "[encoded data removed]",
      "text/plain": [
       "<Figure size 640x480 with 1 Axes>"
      ]
     },
     "metadata": {},
     "output_type": "display_data"
    },
    {
     "name": "stdout",
     "output_type": "stream",
     "text": [
      "20 to 25\n"
     ]
    }
   ],
   "source": [
    "import scipy.stats as stats\n",
    "from scipy.stats import norm\n",
    "import statistics\n",
    "import matplotlib.pyplot as plt\n",
    "olympics = pd.read_csv(\"D:/GIT PROJECTS/Final Olympic Project/olympics.csv\")\n",
    "age_data = olympics.loc[(olympics['Year'] >= 2000) & (olympics['Year'] <= 2016), 'Age']\n",
    "\n",
    "# Calculate mean and standard deviation using NumPy\n",
    "mean_age = np.mean(age_data)\n",
    "std_age = np.std(age_data)\n",
    "\n",
    "# Generate probability density function (PDF) using scipy.stats.norm.pdf\n",
    "pdf_values = stats.norm.pdf(age_data, loc=mean_age, scale=std_age)\n",
    "\n",
    "# Plot the PDF\n",
    "plt.plot(age_data, pdf_values, label='PDF')\n",
    "plt.xlabel('Age')\n",
    "plt.ylabel('Probability Density')\n",
    "plt.title('Probability Density Function of Age')\n",
    "plt.grid()\n",
    "plt.legend()\n",
    "plt.show()\n",
    "\n",
    "print(\"20 to 25\")"
   ]
  },
  {
   "cell_type": "markdown",
   "id": "ba7382b7",
   "metadata": {},
   "source": [
    "* Q2. Is the overall distribution of Gold Medals tally in India, positive or negative skewed\n"
   ]
  },
  {
   "cell_type": "code",
   "execution_count": 17,
   "id": "178c5568",
   "metadata": {},
   "outputs": [],
   "source": [
    "import statistics\n",
    "import scipy.stats as stats"
   ]
  },
  {
   "cell_type": "code",
   "execution_count": 18,
   "id": "6d810f24",
   "metadata": {
    "scrolled": true
   },
   "outputs": [
    {
     "name": "stdout",
     "output_type": "stream",
     "text": [
      "[ 7 14 15 19 20 14 17 15 16  1]\n",
      "Int64Index([1924, 1928, 1932, 1936, 1948, 1952, 1956, 1964, 1980, 2008], dtype='int64')\n"
     ]
    },
    {
     "data": {
      "image/png": "[encoded data removed]",
      "text/plain": [
       "<Figure size 640x480 with 1 Axes>"
      ]
     },
     "metadata": {},
     "output_type": "display_data"
    },
    {
     "name": "stdout",
     "output_type": "stream",
     "text": [
      "Left Skewed\n"
     ]
    }
   ],
   "source": [
    "olympics = pd.read_csv(\"D:/GIT PROJECTS/Final Olympic Project/olympics.csv\")\n",
    "medals_india = olympics[olympics['region'] == 'India']\n",
    "gold_medals_india = medals_india[medals_india['Medal'] == 'Gold']\n",
    "\n",
    "# Group and count the gold medals by year\n",
    "gd = gold_medals_india['Year'].value_counts().sort_index().values\n",
    "years = gold_medals_india['Year'].value_counts().sort_index().index\n",
    "print(gd)\n",
    "print(years)\n",
    "\n",
    "skewness = stats.skew(gd, bias=False)\n",
    "\n",
    "plt.plot(years, gd)\n",
    "plt.xticks(rotation=45)  # Rotate x-axis labels for better visibility\n",
    "plt.show()\n",
    "\n",
    "if skewness > 0:\n",
    "    print(\"Right Skewed\")\n",
    "else:\n",
    "    print(\"Left Skewed\")"
   ]
  },
  {
   "cell_type": "markdown",
   "id": "6a3418e8",
   "metadata": {},
   "source": [
    "* Q3.What is the standard deviation/error of the distribution of gold medals when the\n",
    " UK is hosting the Olympic games and when not hosting the games? (When games\n",
    " are hosted in the UK, the city is London.)"
   ]
  },
  {
   "cell_type": "code",
   "execution_count": 19,
   "id": "815ccca4",
   "metadata": {},
   "outputs": [
    {
     "name": "stdout",
     "output_type": "stream",
     "text": [
      "71.97453253292676\n",
      "18.14528124684469\n"
     ]
    }
   ],
   "source": [
    "olympics = pd.read_csv(\"D:/GIT PROJECTS/Final Olympic Project/olympics.csv\")\n",
    "london_medals_host = olympics.loc[(olympics[\"City\"] == \"London\") & (olympics[\"region\"] == \"UK\") & (olympics[\"Medal\"] == \"Gold\")] \n",
    "gold_count_host = london_medals_host.groupby(\"Year\")[\"Medal\"].value_counts() \n",
    "london_medals_non_host = olympics.loc[(olympics[\"City\"] != \"London\") & (olympics[\"region\"] == \"UK\") & (olympics[\"Medal\"] == \"Gold\")] \n",
    "gold_count_non_host = london_medals_non_host.groupby(\"Year\")[\"Medal\"].value_counts() \n",
    "host_stdev = statistics.stdev(gold_count_host) \n",
    "non_host_stdev = statistics.stdev(gold_count_non_host) \n",
    "print(host_stdev) \n",
    "print(non_host_stdev)"
   ]
  },
  {
   "cell_type": "markdown",
   "id": "63b4cfa5",
   "metadata": {},
   "source": [
    "* Q4. Standardise the age of all the participants participating in the Shooting\n",
    "Competition and calculate this standardised data's mean and standard deviation.\n"
   ]
  },
  {
   "cell_type": "code",
   "execution_count": 21,
   "id": "0210375c",
   "metadata": {
    "scrolled": false
   },
   "outputs": [
    {
     "name": "stdout",
     "output_type": "stream",
     "text": [
      "0\n",
      "1\n"
     ]
    }
   ],
   "source": [
    "olympics = pd.read_csv(\"D:/GIT PROJECTS/Final Olympic Project/olympics.csv\")\n",
    "shooting_age = pd.to_numeric(olympics[olympics[\"Sport\"] == \"Shooting\"][\"Age\"], errors='coerce').dropna()\n",
    "\n",
    "original_mean = statistics.mean(shooting_age)\n",
    "original_sd = statistics.stdev(shooting_age)\n",
    "\n",
    "standardized_data = [(d - original_mean) / original_sd for d in shooting_age]\n",
    "\n",
    "standardized_mean = statistics.mean(standardized_data)\n",
    "standardized_sd = statistics.stdev(standardized_data)\n",
    "\n",
    "print(round(standardized_mean))\n",
    "print(round(standardized_sd))"
   ]
  },
  {
   "cell_type": "markdown",
   "id": "45432a23",
   "metadata": {},
   "source": [
    "* Q5. Is age positively correlated or negatively correlated with winning the medal.\n"
   ]
  },
  {
   "cell_type": "code",
   "execution_count": null,
   "id": "fa30e736",
   "metadata": {},
   "outputs": [],
   "source": [
    "olympics = pd.read_csv(\"D:/GIT PROJECTS/Final Olympic Project/olympics.csv\")\n",
    "def f(s):\n",
    "    if s == 'Bronze':\n",
    "        return 1\n",
    "    elif s == 'Silver':\n",
    "        return 2\n",
    "    elif s == 'Gold':\n",
    "        return 3\n",
    "    else :\n",
    "        return 0\n",
    "\n",
    "age_column = olympics['Age']\n",
    "medal_column = olympics['Medal'] = olympics.Medal.apply(f)\n",
    "correlation = age_column.corr(medal_column)\n",
    "if correlation > 0:\n",
    "    print(\"Positive\")\n",
    "else:\n",
    "    print(\"Negative\")"
   ]
  },
  {
   "cell_type": "markdown",
   "id": "9a0b26e5",
   "metadata": {},
   "source": [
    "* Q6. From the dataset, Calculate the IQR for the Age column."
   ]
  },
  {
   "cell_type": "code",
   "execution_count": null,
   "id": "89c014b6",
   "metadata": {},
   "outputs": [],
   "source": [
    "olympics = pd.read_csv(\"D:/GIT PROJECTS/Final Olympic Project/olympics.csv\")\n",
    "olympics['Age'].dropna(inplace=True)\n",
    "age_column=olympics[\"Age\"]\n",
    "Q3,Q1= np.percentile(age_column, [75,25],interpolation = 'midpoint')\n",
    "\n",
    "IQR = Q3 - Q1\n",
    "print(IQR)\n"
   ]
  },
  {
   "cell_type": "markdown",
   "id": "93920fc3",
   "metadata": {},
   "source": [
    "### 4. DataSet Visualization"
   ]
  },
  {
   "cell_type": "markdown",
   "id": "8e0936b0",
   "metadata": {},
   "source": [
    "* Q1.In how many cities Olympics been held so far."
   ]
  },
  {
   "cell_type": "code",
   "execution_count": null,
   "id": "3b8b7c59",
   "metadata": {},
   "outputs": [],
   "source": [
    "olympics = pd.read_csv(\"D:/GIT PROJECTS/Final Olympic Project/olympics.csv\")\n",
    "cities = olympics['City'].unique()\n",
    "num_cities = len(cities)\n",
    "\n",
    "city_counts = olympics['City'].value_counts()\n",
    "\n",
    "bar_width = 0.6  # Adjust the width of the bars (0.6 is just an example value)\n",
    "bar_spacing = 0.2  # Adjust the spacing between bars (0.2 is just an example value)\n",
    "plt.figure(figsize=(10, 6))  # Adjust the figure size as per your requirement\n",
    "\n",
    "plt.bar(city_counts.index, city_counts.values, width=bar_width)\n",
    "plt.xticks(rotation=90)\n",
    "\n",
    "plt.tight_layout()  #Automatically adjusts the spacing to prevent label overlap\n",
    "plt.show()\n",
    "\n",
    "print(num_cities)"
   ]
  },
  {
   "cell_type": "markdown",
   "id": "85043ea4",
   "metadata": {},
   "source": [
    "* Q2. Which sport is having the most number of medals so far."
   ]
  },
  {
   "cell_type": "code",
   "execution_count": null,
   "id": "95899f87",
   "metadata": {
    "scrolled": true
   },
   "outputs": [],
   "source": [
    "olympics = pd.read_csv(\"D:/GIT PROJECTS/Final Olympic Project/olympics.csv\")\n",
    "def medal_value(s):\n",
    "    if s == 'Bronze':\n",
    "        return 1\n",
    "    elif s == 'Silver':\n",
    "        return 2\n",
    "    elif s == 'Gold':\n",
    "        return 3\n",
    "    else :\n",
    "        return 0\n",
    "\n",
    "olympics['Medal'] = olympics['Medal'].apply(medal_value)\n",
    "sport_most_medals = olympics.groupby('Sport')['Medal'].sum().reset_index()\n",
    "sport_most_medals = sport_most_medals.sort_values('Medal', ascending=False)\n",
    "\n",
    "\n",
    "top_sports = sport_most_medals.head(5)\n",
    "plt.bar(top_sports['Sport'], top_sports['Medal'])\n",
    "plt.xlabel('Sport')\n",
    "plt.ylabel('Number of Medals')\n",
    "plt.title('Top 5 Sports with the Most Number of Medals')\n",
    "plt.xticks(rotation=45)\n",
    "plt.show()\n",
    "\n",
    "most_medals_sport = sport_most_medals.iloc[0]['Sport']\n",
    "print( most_medals_sport)"
   ]
  },
  {
   "cell_type": "markdown",
   "id": "ab1b849a",
   "metadata": {},
   "source": [
    "* Q3. Which Sport has the most number of Gold Medals so far."
   ]
  },
  {
   "cell_type": "code",
   "execution_count": null,
   "id": "abf13442",
   "metadata": {
    "scrolled": true
   },
   "outputs": [],
   "source": [
    "olympics = pd.read_csv(\"D:/GIT PROJECTS/Final Olympic Project/olympics.csv\")\n",
    "gold_medals = olympics[olympics['Medal'] == 'Gold']\n",
    "gold_medals_by_sport = gold_medals['Sport'].value_counts().reset_index()\n",
    "gold_medals_by_sport.columns = ['Sport', 'Gold Medals']\n",
    "top_sports = gold_medals_by_sport.head(5)\n",
    "\n",
    "\n",
    "plt.bar(top_sports['Sport'], top_sports['Gold Medals'])\n",
    "plt.xlabel('Sport')\n",
    "plt.ylabel('Number of Gold Medals')\n",
    "plt.title('Top 5 Sports with the Most Number of Gold Medals')\n",
    "plt.xticks(rotation=45)\n",
    "plt.show()\n",
    "\n",
    "most_gold_medals_sport = gold_medals_by_sport.iloc[0]['Sport']\n",
    "print(most_gold_medals_sport)"
   ]
  },
  {
   "cell_type": "markdown",
   "id": "1c845153",
   "metadata": {},
   "source": [
    "* Q4. In which year did India win the first Gold Medal in the Olympics."
   ]
  },
  {
   "cell_type": "code",
   "execution_count": null,
   "id": "28775b5f",
   "metadata": {
    "scrolled": true
   },
   "outputs": [],
   "source": [
    "olympics = pd.read_csv(\"D:/GIT PROJECTS/Final Olympic Project/olympics.csv\")\n",
    "india_gold_medals = olympics[(olympics['region'] == 'India') & (olympics['Medal'] == 'Gold')]\n",
    "india_gold_medals_sorted = india_gold_medals.sort_values('Year')\n",
    "first_gold_medal_year = india_gold_medals_sorted.iloc[0]['Year']\n",
    "\n",
    "print(first_gold_medal_year)"
   ]
  },
  {
   "cell_type": "markdown",
   "id": "86e2d032",
   "metadata": {},
   "source": [
    "* Q5. Which event is most popular in terms of the number of players."
   ]
  },
  {
   "cell_type": "code",
   "execution_count": null,
   "id": "1b395f9d",
   "metadata": {
    "scrolled": false
   },
   "outputs": [],
   "source": [
    "olympics = pd.read_csv(\"D:/GIT PROJECTS/Final Olympic Project/olympics.csv\")\n",
    "event_player_count = olympics.groupby('Event')['ID'].nunique()\n",
    "event_player_count_sorted = event_player_count.sort_values(ascending=False)\n",
    "top_5_events = event_player_count_sorted.head(5)\n",
    "\n",
    "plt.bar(top_5_events.index,top_5_events.values)\n",
    "plt.xlabel('Event')\n",
    "plt.ylabel('Number of Players')\n",
    "plt.title('Top 5 Events with Most Players')\n",
    "plt.xticks(rotation=45)\n",
    "plt.show()\n",
    "\n",
    "\n",
    "most_popular_event = event_player_count_sorted.index[0]\n",
    "print(most_popular_event)"
   ]
  },
  {
   "cell_type": "markdown",
   "id": "2806bdb4",
   "metadata": {},
   "source": [
    "* Q6.Which sport is having the most female Gold Medalists."
   ]
  },
  {
   "cell_type": "code",
   "execution_count": null,
   "id": "6b422707",
   "metadata": {},
   "outputs": [],
   "source": [
    "olympics = pd.read_csv(\"D:/GIT PROJECTS/Final Olympic Project/olympics.csv\")\n",
    "data=olympics.copy()\n",
    "data=data[data['Sex']=='F']\n",
    "data=data[data['Medal']=='Gold']\n",
    "np_sport=np.array(data['Sport'])\n",
    "\n",
    "d={}\n",
    "for i in np_sport:\n",
    "    if i in d:\n",
    "        d[i]+=1\n",
    "    else:\n",
    "        d[i]=1\n",
    "\n",
    "a=dict(sorted(d.items(),key=lambda item:item[1],reverse=True)[:5])\n",
    "\n",
    "xaxis=[]\n",
    "yaxis=[]\n",
    "for i in a:\n",
    "    xaxis.append(i)\n",
    "    yaxis.append(a[i])\n",
    "plt.bar(xaxis,yaxis)\n",
    "plt.xticks(rotation=30)\n",
    "plt.show()\n",
    "print('Swimming')"
   ]
  }
 ],
 "metadata": {
  "kernelspec": {
   "display_name": "Python 3 (ipykernel)",
   "language": "python",
   "name": "python3"
  },
  "language_info": {
   "codemirror_mode": {
    "name": "ipython",
    "version": 3
   },
   "file_extension": ".py",
   "mimetype": "text/x-python",
   "name": "python",
   "nbconvert_exporter": "python",
   "pygments_lexer": "ipython3",
   "version": "3.11.3"
  }
 },
 "nbformat": 4,
 "nbformat_minor": 5
}
